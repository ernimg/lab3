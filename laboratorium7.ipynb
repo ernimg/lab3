{
 "cells": [
  {
   "cell_type": "code",
   "execution_count": 22,
   "metadata": {},
   "outputs": [],
   "source": [
    "import numpy as np\n",
    "import pandas as pd\n",
    "\n",
    "def funkcja_aktywacji(x):\n",
    "    if x>0:\n",
    "        return 1\n",
    "    return 0"
   ]
  },
  {
   "cell_type": "code",
   "execution_count": 23,
   "metadata": {},
   "outputs": [],
   "source": [
    "bias_AND = -1.5\n",
    "bias_OR = -0.5\n",
    "bias_NOT = 1"
   ]
  },
  {
   "cell_type": "code",
   "execution_count": 24,
   "metadata": {},
   "outputs": [
    {
     "name": "stdout",
     "output_type": "stream",
     "text": [
      "Bramka AND\n",
      "   X_1  X_2  Waga X_1  Waga X_2  Waga bias  X_1 * Waga  X_2 * Waga  Wyjście\n",
      "0    0    0         1         1       -1.5           0           0        0\n",
      "   X_1  X_2  Waga X_1  Waga X_2  Waga bias  X_1 * Waga  X_2 * Waga  Wyjście\n",
      "0    1    0         1         1       -1.5           1           0        0\n",
      "   X_1  X_2  Waga X_1  Waga X_2  Waga bias  X_1 * Waga  X_2 * Waga  Wyjście\n",
      "0    0    1         1         1       -1.5           0           1        0\n",
      "   X_1  X_2  Waga X_1  Waga X_2  Waga bias  X_1 * Waga  X_2 * Waga  Wyjście\n",
      "0    1    1         1         1       -1.5           1           1        1\n"
     ]
    }
   ],
   "source": [
    "print(\"Bramka AND\")\n",
    "wejscie = [[0,0], [1,0], [0,1], [1,1]]\n",
    "for input in wejscie:\n",
    "    wynik = funkcja_aktywacji(bias_AND + input[0] + input[1])\n",
    "    bramka_AND = pd.DataFrame(data = {'X_1' : input[0], 'X_2' : input[1], 'Waga X_1': 1, \n",
    "                                 'Waga X_2': 1, 'Waga bias': bias_AND,'X_1 * Waga': input[0],\n",
    "                                  'X_2 * Waga' : input[1], 'Wyjście' : wynik}, index= [0])\n",
    "    \n",
    "    print(bramka_AND)"
   ]
  },
  {
   "cell_type": "code",
   "execution_count": 25,
   "metadata": {},
   "outputs": [
    {
     "name": "stdout",
     "output_type": "stream",
     "text": [
      "Bramka OR\n",
      "   X_1  X_2  Waga X_1  Waga X_2  Waga bias  X_1 * Waga  X_2 * Waga  Wyjście\n",
      "0    0    0         1         1       -0.5           0           0        0\n",
      "   X_1  X_2  Waga X_1  Waga X_2  Waga bias  X_1 * Waga  X_2 * Waga  Wyjście\n",
      "0    1    0         1         1       -0.5           1           0        1\n",
      "   X_1  X_2  Waga X_1  Waga X_2  Waga bias  X_1 * Waga  X_2 * Waga  Wyjście\n",
      "0    0    1         1         1       -0.5           0           1        1\n",
      "   X_1  X_2  Waga X_1  Waga X_2  Waga bias  X_1 * Waga  X_2 * Waga  Wyjście\n",
      "0    1    1         1         1       -0.5           1           1        1\n"
     ]
    }
   ],
   "source": [
    "print(\"Bramka OR\")\n",
    "for input in wejscie:\n",
    "    wynik = funkcja_aktywacji(bias_OR + input[0] + input[1])\n",
    "    bramka_OR = pd.DataFrame(data = {'X_1' : input[0], 'X_2' : input[1], 'Waga X_1': 1, \n",
    "                                 'Waga X_2': 1, 'Waga bias': bias_OR,'X_1 * Waga': input[0],\n",
    "                                  'X_2 * Waga' : input[1], 'Wyjście' : wynik}, index= [0])\n",
    "    \n",
    "    print(bramka_OR)"
   ]
  },
  {
   "cell_type": "code",
   "execution_count": 26,
   "metadata": {},
   "outputs": [
    {
     "name": "stdout",
     "output_type": "stream",
     "text": [
      "   X_1  Waga X_1  Waga bias  X_1 * Waga  Wyjście\n",
      "0    0        -2          1           0        1\n",
      "   X_1  Waga X_1  Waga bias  X_1 * Waga  Wyjście\n",
      "0    1        -2          1          -2        0\n"
     ]
    }
   ],
   "source": [
    "wejscie_NOT = [0,1]\n",
    "for input in wejscie_NOT:\n",
    "    Waga_X = -2 * input\n",
    "    wynik = funkcja_aktywacji(bias_NOT + Waga_X)\n",
    "    bramka_NOT = pd.DataFrame(data = {'X_1' : input, 'Waga X_1': -2, \n",
    "                                 'Waga bias': bias_NOT,'X_1 * Waga': Waga_X,\n",
    "                                  'Wyjście' : wynik}, index=[0])\n",
    "    print(bramka_NOT)"
   ]
  },
  {
   "cell_type": "code",
   "execution_count": 27,
   "metadata": {},
   "outputs": [
    {
     "name": "stdout",
     "output_type": "stream",
     "text": [
      "   X1  X2  Waga X1/1/1W  Waga X2/1/1W  Waga B1/1W  Waga X1/2/1W  Waga X2/2/1W  \\\n",
      "0   0   0            -1            -1         0.5          -1.5             1   \n",
      "\n",
      "   Waga B2/1W  X1 * W1  X2 * W1  X1 * W2  X2 * W2  Neuron 1  Neuron 2      W3  \\\n",
      "0        -1.5        0        0        0        0         1         0  Obie 1   \n",
      "\n",
      "   Waga B/W2  Wynik  \n",
      "0       -0.5      1  \n",
      "   X1  X2  Waga X1/1/1W  Waga X2/1/1W  Waga B1/1W  Waga X1/2/1W  Waga X2/2/1W  \\\n",
      "0   1   0            -1            -1         0.5          -1.5             1   \n",
      "\n",
      "   Waga B2/1W  X1 * W1  X2 * W1  X1 * W2  X2 * W2  Neuron 1  Neuron 2      W3  \\\n",
      "0        -1.5       -1        0        1        0         0         0  Obie 1   \n",
      "\n",
      "   Waga B/W2  Wynik  \n",
      "0       -0.5      0  \n",
      "   X1  X2  Waga X1/1/1W  Waga X2/1/1W  Waga B1/1W  Waga X1/2/1W  Waga X2/2/1W  \\\n",
      "0   0   1            -1            -1         0.5          -1.5             1   \n",
      "\n",
      "   Waga B2/1W  X1 * W1  X2 * W1  X1 * W2  X2 * W2  Neuron 1  Neuron 2      W3  \\\n",
      "0        -1.5        0       -1        0        1         0         0  Obie 1   \n",
      "\n",
      "   Waga B/W2  Wynik  \n",
      "0       -0.5      0  \n",
      "   X1  X2  Waga X1/1/1W  Waga X2/1/1W  Waga B1/1W  Waga X1/2/1W  Waga X2/2/1W  \\\n",
      "0   1   1            -1            -1         0.5          -1.5             1   \n",
      "\n",
      "   Waga B2/1W  X1 * W1  X2 * W1  X1 * W2  X2 * W2  Neuron 1  Neuron 2      W3  \\\n",
      "0        -1.5       -1       -1        1        1         0         1  Obie 1   \n",
      "\n",
      "   Waga B/W2  Wynik  \n",
      "0       -0.5      1  \n"
     ]
    }
   ],
   "source": [
    "i = 0;\n",
    "for input in wejscie:\n",
    "    neuron_1_1 = funkcja_aktywacji(1 * 0.5 + input[0] * -1 + input[1] * -1)\n",
    "    neuron_1_2 = funkcja_aktywacji(1 * -1.5 + input[0] * 1 + input[1] * 1)\n",
    "\n",
    "    neuron_2 = funkcja_aktywacji(1 * -0.5 + neuron_1_1 + neuron_1_2)\n",
    "    bramka_XNOR = pd.DataFrame(data = {'X1' : input[0], 'X2' : input[1], 'Waga X1/1/1W': -1, \n",
    "                                'Waga X2/1/1W': -1, 'Waga B1/1W': 0.5, \n",
    "                                'Waga X1/2/1W': -1.5,'Waga X2/2/1W': 1, 'Waga B2/1W': -1.5,\n",
    "                                'X1 * W1': input[0] * -1, 'X2 * W1' : input[1] * -1, \n",
    "                                'X1 * W2': input[0] * 1, 'X2 * W2' : input[1] * 1, \n",
    "                                'Neuron 1' : neuron_1_1, 'Neuron 2': neuron_1_2,\n",
    "                                'W3': 'Obie 1', 'Waga B/W2': -0.5,\n",
    "                                'Wynik': neuron_2}, index=[0])\n",
    "    i = i + 1\n",
    "    print(bramka_XNOR)"
   ]
  },
  {
   "cell_type": "code",
   "execution_count": 33,
   "metadata": {},
   "outputs": [
    {
     "name": "stdout",
     "output_type": "stream",
     "text": [
      "Wynik:  0\n",
      "Wynik:  1\n",
      "Wynik:  1\n",
      "Wynik:  0\n"
     ]
    },
    {
     "data": {
      "text/html": [
       "<div>\n",
       "<style scoped>\n",
       "    .dataframe tbody tr th:only-of-type {\n",
       "        vertical-align: middle;\n",
       "    }\n",
       "\n",
       "    .dataframe tbody tr th {\n",
       "        vertical-align: top;\n",
       "    }\n",
       "\n",
       "    .dataframe thead th {\n",
       "        text-align: right;\n",
       "    }\n",
       "</style>\n",
       "<table border=\"1\" class=\"dataframe\">\n",
       "  <thead>\n",
       "    <tr style=\"text-align: right;\">\n",
       "      <th></th>\n",
       "      <th>Waga X1/1/1W</th>\n",
       "      <th>Waga X2/1/1W</th>\n",
       "      <th>Waga B1/1W</th>\n",
       "      <th>Waga X1/2/1W</th>\n",
       "      <th>Waga X2/2/1W</th>\n",
       "      <th>Waga B2/1W</th>\n",
       "      <th>X1 * W1</th>\n",
       "      <th>X2 * W1</th>\n",
       "      <th>X1 * W2</th>\n",
       "      <th>X2 * W2</th>\n",
       "      <th>W3</th>\n",
       "      <th>Waga B/2W</th>\n",
       "    </tr>\n",
       "  </thead>\n",
       "  <tbody>\n",
       "    <tr>\n",
       "      <td>0</td>\n",
       "      <td>20</td>\n",
       "      <td>20</td>\n",
       "      <td>-20</td>\n",
       "      <td>-20</td>\n",
       "      <td>1</td>\n",
       "      <td>30</td>\n",
       "      <td>-1</td>\n",
       "      <td>-1</td>\n",
       "      <td>1</td>\n",
       "      <td>1</td>\n",
       "      <td>Obie 20</td>\n",
       "      <td>-30</td>\n",
       "    </tr>\n",
       "  </tbody>\n",
       "</table>\n",
       "</div>"
      ],
      "text/plain": [
       "   Waga X1/1/1W  Waga X2/1/1W  Waga B1/1W  Waga X1/2/1W  Waga X2/2/1W  \\\n",
       "0            20            20         -20           -20             1   \n",
       "\n",
       "   Waga B2/1W  X1 * W1  X2 * W1  X1 * W2  X2 * W2       W3  Waga B/2W  \n",
       "0          30       -1       -1        1        1  Obie 20        -30  "
      ]
     },
     "execution_count": 33,
     "metadata": {},
     "output_type": "execute_result"
    }
   ],
   "source": [
    "for input in wejscie:\n",
    "    neuron_1_1 = funkcja_aktywacji(-10 + input[0] * 20 + 20 * input[1])\n",
    "    neuron_1_2 = funkcja_aktywacji(30 + input[0] * -20 + input[1] * -20)\n",
    "    neuron_2 = funkcja_aktywacji(-30 + neuron_1_1 * 20 + neuron_1_2 * 20)\n",
    "    print(\"Wynik: \",neuron_2)\n",
    "bramka_XOR = pd.DataFrame(data = {'Waga X1/1/1W': 20, \n",
    "                                'Waga X2/1/1W': 20, 'Waga B1/1W': -20, \n",
    "                                'Waga X1/2/1W': -20,'Waga X2/2/1W': 1, 'Waga B2/1W': 30,\n",
    "                                'X1 * W1': input[0] * -1, 'X2 * W1' : input[1] * -1, \n",
    "                                'X1 * W2': input[0] * 1, 'X2 * W2' : input[1] * 1, \n",
    "                                'W3': 'Obie 20', 'Waga B/2W': -30}\n",
    "                                , index=[0])\n",
    "bramka_XOR"
   ]
  },
  {
   "cell_type": "code",
   "execution_count": null,
   "metadata": {},
   "outputs": [],
   "source": []
  }
 ],
 "metadata": {
  "kernelspec": {
   "display_name": "Python 3",
   "language": "python",
   "name": "python3"
  },
  "language_info": {
   "codemirror_mode": {
    "name": "ipython",
    "version": 3
   },
   "file_extension": ".py",
   "mimetype": "text/x-python",
   "name": "python",
   "nbconvert_exporter": "python",
   "pygments_lexer": "ipython3",
   "version": "3.6.8"
  }
 },
 "nbformat": 4,
 "nbformat_minor": 2
}
