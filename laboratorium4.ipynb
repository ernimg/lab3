{
 "cells": [
  {
   "cell_type": "code",
   "execution_count": 1,
   "metadata": {},
   "outputs": [
    {
     "data": {
      "text/plain": [
       "'3.0.1'"
      ]
     },
     "execution_count": 1,
     "metadata": {},
     "output_type": "execute_result"
    }
   ],
   "source": [
    "import openpyxl\n",
    "openpyxl.__version__"
   ]
  },
  {
   "cell_type": "code",
   "execution_count": 2,
   "metadata": {},
   "outputs": [],
   "source": [
    "from openpyxl import Workbook\n",
    "wb = Workbook()"
   ]
  },
  {
   "cell_type": "code",
   "execution_count": 3,
   "metadata": {},
   "outputs": [],
   "source": [
    "wb = Workbook()\n",
    "ws1 = wb.create_sheet('Giełda')\n",
    "ws2 = wb.create_sheet('Linki')\n",
    "ws3 = wb.create_sheet('Filmweb')"
   ]
  },
  {
   "cell_type": "code",
   "execution_count": 4,
   "metadata": {},
   "outputs": [],
   "source": [
    "wb.save('Ernest.xlsx')"
   ]
  },
  {
   "cell_type": "code",
   "execution_count": 5,
   "metadata": {},
   "outputs": [],
   "source": [
    "import requests\n",
    "from bs4 import BeautifulSoup\n",
    "from random import choice\n",
    "from string import ascii_lowercase\n",
    "import re"
   ]
  },
  {
   "cell_type": "code",
   "execution_count": 9,
   "metadata": {},
   "outputs": [
    {
     "name": "stdout",
     "output_type": "stream",
     "text": [
      "dla ycp nie znaleźiono odpowiadającego kodu.\n",
      "dla lcb Znaleziono kod podobny: flcb.us\n",
      "dla ino Znaleziono kod podobny: ino.us\n",
      "dla dxc Znaleziono kod podobny: dxc.us\n",
      "dla nab Znaleziono kod podobny: nabb.uk\n",
      "flcb.us kusrs:25.1450, zmiana procntowa:(-0.18%),trransakcje:34\n",
      "ino.us kusrs:2.385, zmiana procntowa:(+2.36%),trransakcje:3 304\n",
      "dxc.us kusrs:37.360, zmiana procntowa:(+2.92%),trransakcje:15 670\n",
      "nabb.uk kusrs:129.5, zmiana procntowa:(0.00%),trransakcje:\n"
     ]
    }
   ],
   "source": [
    "def generate_String(y):\n",
    "    \n",
    "    return \"\".join(choice(ascii_lowercase) for i in range(y))\n",
    "codes = [generate_String(3) for _ in range(5)]\n",
    "s = requests.Session()\n",
    "valid_codes = []\n",
    "\n",
    "\n",
    "\n",
    "for code in codes:\n",
    "   \n",
    "    params = {\"s\": code}\n",
    "    response = requests.get(\"http://stooq.pl/q/\", params=params)\n",
    "    soup = BeautifulSoup(response.content, 'html.parser')\n",
    "    if len(soup.body.findAll('span', id='c2')) != 0:\n",
    "        link_content = soup.find('font',id='f16').find('a',href=True)\n",
    "        if link_content.text == 'symbol waloru':\n",
    "            print(\"dla\",code,\"nie znaleźiono odpowiadającego kodu.\")\n",
    "        else:\n",
    "            valid_code = link_content['href'][5:]\n",
    "            if len(valid_codes)<5:\n",
    "                valid_codes.append(valid_code)\n",
    "            print(\"dla\",code,f'Znaleziono kod podobny: {valid_code}')\n",
    "    \n",
    "    else:\n",
    "         if len(valid_codes)<6:\n",
    "                valid_codes.append(valid_code)\n",
    "                print(\"znalezniono:\",code)\n",
    "\n",
    "        \n",
    "ws1.cell(row=1, column=1).value = 'Kod'\n",
    "ws1.cell(row=1, column=2).value = 'Kurs'\n",
    "ws1.cell(row=1, column=3).value = 'Zmiana procentowa'\n",
    "ws1.cell(row=1, column=4).value = 'Transakcje'\n",
    "row = 2\n",
    "\n",
    "\n",
    "for code in valid_codes:\n",
    "    params = {\"s\": code}\n",
    "    response = requests.get(\"http://stooq.pl/q/\", params=params)\n",
    "    soup = BeautifulSoup(response.content, 'html.parser')\n",
    "    price = soup.find(text=\"Kurs\").parent.find(\"span\").text\n",
    "    percent_change = soup.find(text=\"Zmiana\").parent.findAll(\"span\")[1].text\n",
    "    transactions = soup.find(text=\"Transakcje\").parent.find(\"span\").text\n",
    "    print(code,f\"kusrs:{price}, zmiana procntowa:{percent_change},trransakcje:{transactions}\")\n",
    "    ws1.cell(row=row, column=1).value = code\n",
    "    ws1.cell(row=row, column=2).value = price if price else 'Brak danych'\n",
    "    ws1.cell(row=row, column=3).value =  percent_change if percent_change else 'Brak danych'\n",
    "    ws1.cell(row=row, column=4).value =  transactions if transactions else 'Brak danych'\n",
    "    row += 1"
   ]
  },
  {
   "cell_type": "code",
   "execution_count": null,
   "metadata": {},
   "outputs": [],
   "source": [
    "soup"
   ]
  },
  {
   "cell_type": "code",
   "execution_count": 10,
   "metadata": {},
   "outputs": [],
   "source": [
    "url = \"https://jbzdy.cc/\"\n",
    "req = requests.get(url)\n",
    "links = set()\n",
    "soup = BeautifulSoup(req.content, 'html.parser')\n",
    "\n",
    "for atag in soup.find_all(\"a\"):\n",
    "    link = atag.get('href')\n",
    "    links.add(link)\n",
    "\n",
    "row = 1\n",
    "for link in links:\n",
    "    ws2.cell(row,column=1).value = link\n",
    "    row +=1"
   ]
  },
  {
   "cell_type": "code",
   "execution_count": 11,
   "metadata": {},
   "outputs": [],
   "source": [
    "import bs4 as bs\n",
    "import urllib.request\n",
    "\n",
    "source_gl = urllib.request.urlopen('https://www.filmweb.pl/film/Joker-2019-810167').read()\n",
    "soup_gl = bs.BeautifulSoup(source_gl,'lxml')\n",
    "\n",
    "filmweb = {}\n",
    "filmweb['premiera:'] = soup_gl.find(\"th\", text=\"premiera:\").find_next_sibling(\"td\").text\n",
    "filmweb['reżyseria:'] = soup_gl.find(\"th\", text=\"reżyseria:\").find_next_sibling(\"td\").text\n",
    "filmweb['boxoffice:']  = soup_gl.find(\"th\", text=\"boxoffice:\").find_next_sibling(\"td\").text \n",
    "filmweb['ocena:'] = soup_gl.find(\"span\", itemprop=\"ratingValue\").text\n",
    "\n",
    "row = 1\n",
    "for key, value in filmweb.items():\n",
    "    ws3.cell(row,column=1).value = key\n",
    "    ws3.cell(row,column=2).value = value\n",
    "    row += 1"
   ]
  },
  {
   "cell_type": "code",
   "execution_count": 12,
   "metadata": {},
   "outputs": [],
   "source": [
    "wb.save('Ernest_Mglosiek.xlsx')"
   ]
  },
  {
   "cell_type": "code",
   "execution_count": null,
   "metadata": {},
   "outputs": [],
   "source": []
  },
  {
   "cell_type": "code",
   "execution_count": null,
   "metadata": {},
   "outputs": [],
   "source": []
  }
 ],
 "metadata": {
  "kernelspec": {
   "display_name": "Python 3",
   "language": "python",
   "name": "python3"
  },
  "language_info": {
   "codemirror_mode": {
    "name": "ipython",
    "version": 3
   },
   "file_extension": ".py",
   "mimetype": "text/x-python",
   "name": "python",
   "nbconvert_exporter": "python",
   "pygments_lexer": "ipython3",
   "version": "3.6.8"
  }
 },
 "nbformat": 4,
 "nbformat_minor": 2
}
